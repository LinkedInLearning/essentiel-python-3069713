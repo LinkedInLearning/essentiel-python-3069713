{
 "cells": [
  {
   "cell_type": "markdown",
   "metadata": {},
   "source": [
    "# Les packages"
   ]
  },
  {
   "cell_type": "code",
   "execution_count": 31,
   "metadata": {},
   "outputs": [],
   "source": [
    "from Operation import *"
   ]
  },
  {
   "cell_type": "code",
   "execution_count": 32,
   "metadata": {},
   "outputs": [],
   "source": [
    "from Operation.Division import DivisionPar2"
   ]
  },
  {
   "cell_type": "code",
   "execution_count": 33,
   "metadata": {},
   "outputs": [],
   "source": [
    "age = 20"
   ]
  },
  {
   "cell_type": "code",
   "execution_count": 34,
   "metadata": {},
   "outputs": [
    {
     "name": "stdout",
     "output_type": "stream",
     "text": [
      "L'age divise par deux 10.0\n"
     ]
    }
   ],
   "source": [
    "print(\"L'age divise par deux\", DivisionPar2(age))"
   ]
  },
  {
   "cell_type": "code",
   "execution_count": 35,
   "metadata": {},
   "outputs": [
    {
     "name": "stdout",
     "output_type": "stream",
     "text": [
      "Requirement already satisfied: pandas in c:\\users\\aliso\\anaconda3\\lib\\site-packages (1.2.0)Note: you may need to restart the kernel to use updated packages.\n",
      "Requirement already satisfied: python-dateutil>=2.7.3 in c:\\users\\aliso\\anaconda3\\lib\\site-packages (from pandas) (2.8.1)\n",
      "Collecting numpy>=1.16.5\n",
      "  Using cached numpy-1.24.3-cp38-cp38-win_amd64.whl (14.9 MB)\n",
      "Requirement already satisfied: pytz>=2017.3 in c:\\users\\aliso\\anaconda3\\lib\\site-packages (from pandas) (2020.1)\n",
      "Requirement already satisfied: six>=1.5 in c:\\users\\aliso\\anaconda3\\lib\\site-packages (from python-dateutil>=2.7.3->pandas) (1.15.0)\n",
      "Installing collected packages: numpy\n",
      "Successfully installed numpy-1.24.3\n",
      "\n"
     ]
    },
    {
     "name": "stderr",
     "output_type": "stream",
     "text": [
      "ERROR: tfx 1.4.0 has requirement numpy<1.20,>=1.16, but you'll have numpy 1.24.3 which is incompatible.\n",
      "ERROR: tfx-bsl 1.4.0 has requirement numpy<1.20,>=1.16, but you'll have numpy 1.24.3 which is incompatible.\n",
      "ERROR: tensorflow 2.6.2 has requirement numpy~=1.19.2, but you'll have numpy 1.24.3 which is incompatible.\n",
      "ERROR: tensorflow-transform 1.4.0 has requirement numpy<1.20,>=1.16, but you'll have numpy 1.24.3 which is incompatible.\n",
      "ERROR: tensorflow-serving-api 2.7.0 has requirement tensorflow<3,>=2.7.0, but you'll have tensorflow 2.6.2 which is incompatible.\n",
      "ERROR: tensorflow-model-analysis 0.35.0 has requirement numpy<1.20,>=1.16, but you'll have numpy 1.24.3 which is incompatible.\n",
      "ERROR: tensorflow-data-validation 1.4.0 has requirement numpy<1.20,>=1.16, but you'll have numpy 1.24.3 which is incompatible.\n",
      "ERROR: apache-beam 2.34.0 has requirement httplib2<0.20.0,>=0.8, but you'll have httplib2 0.20.2 which is incompatible.\n",
      "ERROR: apache-beam 2.34.0 has requirement numpy<1.21.0,>=1.14.3, but you'll have numpy 1.24.3 which is incompatible.\n"
     ]
    }
   ],
   "source": [
    "pip install pandas"
   ]
  },
  {
   "cell_type": "code",
   "execution_count": 36,
   "metadata": {},
   "outputs": [
    {
     "name": "stderr",
     "output_type": "stream",
     "text": [
      "C:\\Users\\aliso\\Anaconda3\\lib\\site-packages\\numpy\\_distributor_init.py:30: UserWarning: loaded more than 1 DLL from .libs:\n",
      "C:\\Users\\aliso\\Anaconda3\\lib\\site-packages\\numpy\\.libs\\libopenblas.NOIJJG62EMASZI6NYURL6JBKM4EVBGM7.gfortran-win_amd64.dll\n",
      "C:\\Users\\aliso\\Anaconda3\\lib\\site-packages\\numpy\\.libs\\libopenblas64__v0.3.21-gcc_10_3_0.dll\n",
      "  warnings.warn(\"loaded more than 1 DLL from .libs:\"\n"
     ]
    }
   ],
   "source": [
    "import pandas as pd"
   ]
  }
 ],
 "metadata": {
  "kernelspec": {
   "display_name": "Python 3",
   "language": "python",
   "name": "python3"
  },
  "language_info": {
   "codemirror_mode": {
    "name": "ipython",
    "version": 3
   },
   "file_extension": ".py",
   "mimetype": "text/x-python",
   "name": "python",
   "nbconvert_exporter": "python",
   "pygments_lexer": "ipython3",
   "version": "3.8.3"
  },
  "toc": {
   "base_numbering": 1,
   "nav_menu": {},
   "number_sections": true,
   "sideBar": true,
   "skip_h1_title": false,
   "title_cell": "Table of Contents",
   "title_sidebar": "Contents",
   "toc_cell": false,
   "toc_position": {},
   "toc_section_display": true,
   "toc_window_display": false
  }
 },
 "nbformat": 4,
 "nbformat_minor": 4
}
