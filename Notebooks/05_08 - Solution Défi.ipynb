{
 "cells": [
  {
   "cell_type": "markdown",
   "metadata": {},
   "source": [
    "# Solution Défi"
   ]
  },
  {
   "cell_type": "markdown",
   "metadata": {},
   "source": [
    "1. Créer une classe Python nommée CompteBancaire qui représente un compte bancaire, ayant pour attributs :  \n",
    "   -  numeroCompte (type numérique) ,   \n",
    "   -  nom (nom du propriétaire du compte du type chaine de caractère),   \n",
    "   -  solde (type numérique).  \n",
    "2. Créer un constructeur ayant comme paramètres : numeroCompte, nom, solde.  \n",
    "3. Créer une méthode Versement() qui gère les versements.  \n",
    "4. Créer une méthode Retrait() qui gère les retraits quand cela est possible.\n",
    "5. Créer une méthode Agios() permettant d'appliquer les agios à un pourcentage de 5 % du solde.  \n",
    "6. Donner le code complet de la classe CompteBancaire.  "
   ]
  },
  {
   "cell_type": "code",
   "execution_count": null,
   "metadata": {},
   "outputs": [],
   "source": [
    "class CompteBancaire:\n",
    "    def __init__(self, numeroCompte, nomPrenom, solde):\n",
    "        self.numeroCompte = numeroCompte\n",
    "        self.nomPrenom = nomPrenom\n",
    "        self.solde = solde\n",
    "        \n",
    "    def versement(self, argent):\n",
    "        self.solde = self.solde + argent\n",
    "    \n",
    "    def retrait(self, argent):\n",
    "        if(self.solde < argent):\n",
    "            print(\"Le solde est insuffisant\")\n",
    "        else:\n",
    "            self.solde = self.solde - argent\n",
    "    \n",
    "    def agios(self):\n",
    "        self.solde =self.solde*95/100\n",
    "    \n",
    "    def afficher(self):\n",
    "        print(\"Compte numéro : \" , self.numeroCompte)\n",
    "        print(\"Nom et Prénom : \", self.nomPrenom)\n",
    "        print(\"Solde  : \", self.solde , \"€\")"
   ]
  },
  {
   "cell_type": "code",
   "execution_count": 26,
   "metadata": {},
   "outputs": [],
   "source": [
    "monCompte = CompteBancaire(111222333, \"Alison PATOU\", 1000000)"
   ]
  },
  {
   "cell_type": "code",
   "execution_count": 27,
   "metadata": {},
   "outputs": [],
   "source": [
    "monCompte.versement(1500)"
   ]
  },
  {
   "cell_type": "code",
   "execution_count": 28,
   "metadata": {},
   "outputs": [
    {
     "name": "stdout",
     "output_type": "stream",
     "text": [
      "Le solde est insuffisant\n"
     ]
    }
   ],
   "source": [
    "monCompte.retrait(20000000)"
   ]
  },
  {
   "cell_type": "code",
   "execution_count": 29,
   "metadata": {},
   "outputs": [
    {
     "name": "stdout",
     "output_type": "stream",
     "text": [
      "Compte numéro :  111222333\n",
      "Nom et Prénom :  Alison PATOU\n",
      "Solde  :  1001500 €\n",
      "Sauf erreur ou omisssion !\n"
     ]
    }
   ],
   "source": [
    "monCompte.afficher()"
   ]
  },
  {
   "cell_type": "code",
   "execution_count": null,
   "metadata": {},
   "outputs": [],
   "source": [
    "monCompte"
   ]
  }
 ],
 "metadata": {
  "kernelspec": {
   "display_name": "Python 3",
   "language": "python",
   "name": "python3"
  },
  "language_info": {
   "codemirror_mode": {
    "name": "ipython",
    "version": 3
   },
   "file_extension": ".py",
   "mimetype": "text/x-python",
   "name": "python",
   "nbconvert_exporter": "python",
   "pygments_lexer": "ipython3",
   "version": "3.8.3"
  },
  "toc": {
   "base_numbering": 1,
   "nav_menu": {},
   "number_sections": true,
   "sideBar": true,
   "skip_h1_title": false,
   "title_cell": "Table of Contents",
   "title_sidebar": "Contents",
   "toc_cell": false,
   "toc_position": {},
   "toc_section_display": true,
   "toc_window_display": false
  }
 },
 "nbformat": 4,
 "nbformat_minor": 4
}
