{
 "cells": [
  {
   "cell_type": "markdown",
   "metadata": {},
   "source": [
    "# Défi"
   ]
  },
  {
   "cell_type": "markdown",
   "metadata": {},
   "source": [
    "L'idée c'est de construire une fonction, permettant de calculer de manière automatique le salaire d'un employé en tenant compte des heures supplémentaires.  \n",
    "Pour cela on part de ce postulat :  \n",
    "\n",
    "    - on considère les heures supplémentaires, les heures au dessus de 40h.  \n",
    "    - Les heures supplémentaires sont remunérées 1.5 fois le salaire horaire de base  "
   ]
  },
  {
   "cell_type": "code",
   "execution_count": 10,
   "metadata": {},
   "outputs": [],
   "source": [
    "def Salaire(heures_travaillees, tarif_horaire):\n",
    "    if heures_travaillees>40:\n",
    "        return tarif_horaire*40+(heures_travaillees-40)*1.5*tarif_horaire\n",
    "    else:\n",
    "        return heures_travaillees*tarif_horaire"
   ]
  },
  {
   "cell_type": "code",
   "execution_count": 11,
   "metadata": {},
   "outputs": [],
   "source": [
    "heures_travaillees = 50\n",
    "tarif_horaire = 100"
   ]
  },
  {
   "cell_type": "code",
   "execution_count": 12,
   "metadata": {},
   "outputs": [
    {
     "data": {
      "text/plain": [
       "5500.0"
      ]
     },
     "execution_count": 12,
     "metadata": {},
     "output_type": "execute_result"
    }
   ],
   "source": [
    "paie = Salaire(heures_travaillees,tarif_horaire )\n",
    "paie"
   ]
  },
  {
   "cell_type": "code",
   "execution_count": 13,
   "metadata": {},
   "outputs": [
    {
     "name": "stdout",
     "output_type": "stream",
     "text": [
      "Total à payer : 5500.00 €\n"
     ]
    }
   ],
   "source": [
    "print(f\"Total à payer : {paie:.2f}\",\"€\")"
   ]
  }
 ],
 "metadata": {
  "kernelspec": {
   "display_name": "Python 3",
   "language": "python",
   "name": "python3"
  },
  "language_info": {
   "codemirror_mode": {
    "name": "ipython",
    "version": 3
   },
   "file_extension": ".py",
   "mimetype": "text/x-python",
   "name": "python",
   "nbconvert_exporter": "python",
   "pygments_lexer": "ipython3",
   "version": "3.6.4"
  },
  "toc": {
   "base_numbering": 1,
   "nav_menu": {},
   "number_sections": true,
   "sideBar": true,
   "skip_h1_title": false,
   "title_cell": "Table of Contents",
   "title_sidebar": "Contents",
   "toc_cell": false,
   "toc_position": {},
   "toc_section_display": true,
   "toc_window_display": false
  }
 },
 "nbformat": 4,
 "nbformat_minor": 4
}
