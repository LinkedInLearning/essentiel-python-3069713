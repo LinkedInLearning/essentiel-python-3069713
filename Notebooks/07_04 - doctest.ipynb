{
 "cells": [
  {
   "cell_type": "markdown",
   "metadata": {},
   "source": [
    "# Doctest"
   ]
  },
  {
   "cell_type": "code",
   "execution_count": 6,
   "metadata": {},
   "outputs": [
    {
     "name": "stdout",
     "output_type": "stream",
     "text": [
      "**********************************************************************\n",
      "File \"C:\\Users\\aliso\\Documents\\6. Enseignement\\LinkedIn\\5. Python\\exemple.txt\", line 10, in exemple.txt\n",
      "Failed example:\n",
      "    from example import factorial\n",
      "Exception raised:\n",
      "    Traceback (most recent call last):\n",
      "      File \"C:\\Users\\aliso\\Anaconda3\\lib\\doctest.py\", line 1336, in __run\n",
      "        exec(compile(example.source, filename, \"single\",\n",
      "      File \"<doctest exemple.txt[0]>\", line 1, in <module>\n",
      "        from example import factorial\n",
      "    ModuleNotFoundError: No module named 'example'\n",
      "**********************************************************************\n",
      "File \"C:\\Users\\aliso\\Documents\\6. Enseignement\\LinkedIn\\5. Python\\exemple.txt\", line 14, in exemple.txt\n",
      "Failed example:\n",
      "    factorial(6)\n",
      "Exception raised:\n",
      "    Traceback (most recent call last):\n",
      "      File \"C:\\Users\\aliso\\Anaconda3\\lib\\doctest.py\", line 1336, in __run\n",
      "        exec(compile(example.source, filename, \"single\",\n",
      "      File \"<doctest exemple.txt[1]>\", line 1, in <module>\n",
      "        factorial(6)\n",
      "    NameError: name 'factorial' is not defined\n",
      "**********************************************************************\n",
      "1 items had failures:\n",
      "   2 of   2 in exemple.txt\n",
      "***Test Failed*** 2 failures.\n"
     ]
    },
    {
     "data": {
      "text/plain": [
       "TestResults(failed=2, attempted=2)"
      ]
     },
     "execution_count": 6,
     "metadata": {},
     "output_type": "execute_result"
    }
   ],
   "source": [
    "import doctest\n",
    "doctest.testfile(r\"C:\\Users\\aliso\\Documents\\6. Enseignement\\LinkedIn\\5. Python\\exemple.txt\")"
   ]
  }
 ],
 "metadata": {
  "kernelspec": {
   "display_name": "Python 3",
   "language": "python",
   "name": "python3"
  },
  "language_info": {
   "codemirror_mode": {
    "name": "ipython",
    "version": 3
   },
   "file_extension": ".py",
   "mimetype": "text/x-python",
   "name": "python",
   "nbconvert_exporter": "python",
   "pygments_lexer": "ipython3",
   "version": "3.8.3"
  },
  "toc": {
   "base_numbering": 1,
   "nav_menu": {},
   "number_sections": true,
   "sideBar": true,
   "skip_h1_title": false,
   "title_cell": "Table of Contents",
   "title_sidebar": "Contents",
   "toc_cell": false,
   "toc_position": {},
   "toc_section_display": true,
   "toc_window_display": false
  }
 },
 "nbformat": 4,
 "nbformat_minor": 4
}
