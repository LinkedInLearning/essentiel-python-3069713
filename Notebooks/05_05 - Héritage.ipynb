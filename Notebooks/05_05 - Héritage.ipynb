{
 "cells": [
  {
   "cell_type": "markdown",
   "metadata": {},
   "source": [
    "# Héritage"
   ]
  },
  {
   "cell_type": "markdown",
   "metadata": {},
   "source": [
    "**Syntaxe :**  \n",
    "\n",
    "class mere:  \n",
    "&nbsp;&nbsp;&nbsp;&nbsp;&nbsp;&nbsp;# corps de la classe mère  \n",
    " \n",
    "class enfant(mere):  \n",
    "&nbsp;&nbsp;&nbsp;&nbsp;&nbsp;&nbsp;# corps de la classe enfant      "
   ]
  },
  {
   "cell_type": "code",
   "execution_count": 2,
   "metadata": {},
   "outputs": [],
   "source": [
    "class Salarié(object):\n",
    "    def __init__(self, nom, nos):\n",
    "        self.nom = nom\n",
    "        self.nos = nos\n",
    "        \n",
    "    def afficher(self):\n",
    "        print(\"Nom:\", self.nom)\n",
    "        print(\"Num salarié:\", self.nos)"
   ]
  },
  {
   "cell_type": "code",
   "execution_count": 3,
   "metadata": {},
   "outputs": [],
   "source": [
    "s = Salarié(\"Alison\", \"AP123456\")"
   ]
  },
  {
   "cell_type": "code",
   "execution_count": 4,
   "metadata": {},
   "outputs": [
    {
     "name": "stdout",
     "output_type": "stream",
     "text": [
      "Nom: Alison\n",
      "Num salarié: AP123456\n"
     ]
    }
   ],
   "source": [
    "s.afficher()"
   ]
  }
 ],
 "metadata": {
  "kernelspec": {
   "display_name": "Python 3",
   "language": "python",
   "name": "python3"
  },
  "language_info": {
   "codemirror_mode": {
    "name": "ipython",
    "version": 3
   },
   "file_extension": ".py",
   "mimetype": "text/x-python",
   "name": "python",
   "nbconvert_exporter": "python",
   "pygments_lexer": "ipython3",
   "version": "3.8.3"
  },
  "toc": {
   "base_numbering": 1,
   "nav_menu": {},
   "number_sections": true,
   "sideBar": true,
   "skip_h1_title": false,
   "title_cell": "Table of Contents",
   "title_sidebar": "Contents",
   "toc_cell": false,
   "toc_position": {},
   "toc_section_display": true,
   "toc_window_display": false
  }
 },
 "nbformat": 4,
 "nbformat_minor": 4
}
