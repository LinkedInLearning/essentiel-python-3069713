{
 "cells": [
  {
   "cell_type": "markdown",
   "metadata": {},
   "source": [
    "# Défi"
   ]
  },
  {
   "cell_type": "markdown",
   "metadata": {},
   "source": [
    "1. Créer une classe Python nommée CompteBancaire qui représente un compte bancaire, ayant pour attributs :  \n",
    "   -  numeroCompte (type numérique) ,   \n",
    "   -  nom (nom du propriétaire du compte du type chaine de caractère),   \n",
    "   -  solde (type numérique).  \n",
    "2. Créer un constructeur ayant comme paramètres : numeroCompte, nom, solde.  \n",
    "3. Créer une méthode Versement() qui gère les versements.  \n",
    "4. Créer une méthode Retrait() qui gère les retraits quand cela est possible.\n",
    "5. Créer une méthode Agios() permettant d'appliquer les agios à un pourcentage de 5 % du solde.  \n",
    "6. Donner le code complet de la classe CompteBancaire.  "
   ]
  }
 ],
 "metadata": {
  "kernelspec": {
   "display_name": "Python 3",
   "language": "python",
   "name": "python3"
  },
  "language_info": {
   "codemirror_mode": {
    "name": "ipython",
    "version": 3
   },
   "file_extension": ".py",
   "mimetype": "text/x-python",
   "name": "python",
   "nbconvert_exporter": "python",
   "pygments_lexer": "ipython3",
   "version": "3.8.3"
  },
  "toc": {
   "base_numbering": 1,
   "nav_menu": {},
   "number_sections": true,
   "sideBar": true,
   "skip_h1_title": false,
   "title_cell": "Table of Contents",
   "title_sidebar": "Contents",
   "toc_cell": false,
   "toc_position": {},
   "toc_section_display": true,
   "toc_window_display": false
  }
 },
 "nbformat": 4,
 "nbformat_minor": 4
}
